{
 "cells": [
  {
   "cell_type": "markdown",
   "id": "c490112e-c46a-414e-8ad1-03dcf80f6c76",
   "metadata": {
    "tags": []
   },
   "source": [
    "# Lab 4 - Hypothesis testing and statistical analysis"
   ]
  },
  {
   "cell_type": "markdown",
   "id": "3315cd30-4bcd-4053-b5f8-990ac471c11c",
   "metadata": {
    "tags": []
   },
   "source": [
    "## Get the data (1 mark)"
   ]
  },
  {
   "cell_type": "markdown",
   "id": "b47f0b6e-82d7-441c-80c7-ec7e9a2d005b",
   "metadata": {
    "tags": []
   },
   "source": [
    "The data is `census11sample.csv`. Download it from BlackBoard. You can also get it from <href = 'https://syllabus.cs.man.ac.uk/ugt/2021/COMP13212/spam.csv'>http://syllabus.cs.man.ac.uk/ugt/2021/COMP13212/spam.csv>. Read it into a DataFrame.\n",
    "\n",
    "This data consists of samples of ages from the 2011 census in England for different regions. Each data point is the age at the last birthday of an individual. So, a zero is a person who has not reached their first birthday, a 35 is a person who is 35 years old, and so on. The exception is that the age 100 really means between 100 and 114. Apparently, the Office for National Statistics filtered out everyone over 114. There is a sample of 1000 individual ages for each of nine regions. The data is derived from the Office for National Statistics: 2011 Census aggregate data. UK Data Service (Edition: February 2017). DOI: http://dx.doi.org/10.5257/census/aggregate-2011-2, but was taken from the InFuse website, http://infuse2011.ukdataservice.ac.uk. The samples were sampled from this data by Jonathan Shapiro."
   ]
  },
  {
   "cell_type": "markdown",
   "id": "5917c973-c9f2-4fcb-b12a-e4c033a7a6bb",
   "metadata": {
    "tags": []
   },
   "source": [
    "## Divide the data (2 marks)"
   ]
  },
  {
   "cell_type": "markdown",
   "id": "b6f0ed5f-fb6e-4a39-b3ef-3e794afabbf1",
   "metadata": {},
   "source": [
    "You are going to explore this data and from your explorations devise a hypothesis to test. Once you generate a hypothesis, you need a fresh set of data on which to test it. If you use the same data, it is biased in favor of your hypothesis. So, split the data in to two parts, a set for exploration and hythesis generation, and a set on which to test the hypothesis. In what follows, I will call the two sets: sample_explore and sample_test. (You can call them whatever you want.)"
   ]
  },
  {
   "cell_type": "markdown",
   "id": "fb7b1952-16f5-461e-9e33-9fa23aa346ed",
   "metadata": {},
   "source": [
    "## Explore the data (5 marks)"
   ]
  },
  {
   "cell_type": "markdown",
   "id": "5e6eafa8-b08f-443a-894b-71c711ecb3b1",
   "metadata": {},
   "source": [
    "Explore dataset sample_explore. Measure descriptive statistics, plot histograms, scatterplots, and whatever. Find something interesting in the data, and generate a hypothesis about it. Remember, a hypothesis is a statement which is true or false, and can be falsefied.  "
   ]
  },
  {
   "cell_type": "markdown",
   "id": "217b3f85-8835-4e43-8e03-f4fbc876cdf2",
   "metadata": {},
   "source": [
    "## State your hypothesis, and state the evidence that justifies it. (2 marks)"
   ]
  },
  {
   "cell_type": "markdown",
   "id": "21b83997-b5c6-4774-b6db-c4a5509aa8c5",
   "metadata": {},
   "source": [
    "## Plan the test. (3 marks)"
   ]
  },
  {
   "cell_type": "markdown",
   "id": "5df06037-7cc2-441a-9632-1d8091151f44",
   "metadata": {},
   "source": [
    "State how you plan to test the hypothesis briefly. State the null hypothesis and the probability level at which you will role it out (95%, 99%, etc.)."
   ]
  },
  {
   "cell_type": "markdown",
   "id": "845b410b-b44e-440d-bb9b-2f182259aa46",
   "metadata": {},
   "source": [
    "## Perform the statistical test of the hypothesis. (5 marks)"
   ]
  },
  {
   "cell_type": "markdown",
   "id": "df7b5e18-8301-4f83-ada8-1aee82f4bf3b",
   "metadata": {},
   "source": [
    "You may do this using classical statistical methods, Bayesian methods, or, if you are uncomfortable with the notion that the data is normally distributed, you can use Monte Carlo (bootstrap) sampling. "
   ]
  },
  {
   "cell_type": "markdown",
   "id": "9be98912-057b-4fc8-bb2f-e78fc73a673c",
   "metadata": {},
   "source": [
    "## Conclusions. (2 Marks) "
   ]
  },
  {
   "cell_type": "markdown",
   "id": "904ec694-4226-40e2-9e37-9ff2f6a6b685",
   "metadata": {},
   "source": [
    "Write out your conclusion completely, but in a single sentence. E.g. \"Using the method of XXX, I find that the null hypothesis is/cannot be ruled out at Y percent level.\" "
   ]
  },
  {
   "cell_type": "markdown",
   "id": "c868a9cb-07c8-4820-86ee-0af732e193c9",
   "metadata": {},
   "source": [
    "# Lab 4:"
   ]
  },
  {
   "cell_type": "markdown",
   "id": "309d6971-08e7-4761-b730-3e30d77aa9c6",
   "metadata": {},
   "source": [
    "## Get the data (1 mark)"
   ]
  },
  {
   "cell_type": "code",
   "execution_count": 411,
   "id": "0513ce50-eb56-4f51-a269-c04359d722a8",
   "metadata": {
    "tags": []
   },
   "outputs": [],
   "source": [
    "import pandas as pd\n",
    "import numpy as np\n",
    "import matplotlib.pyplot as plt\n",
    "from scipy.stats import *\n",
    "import scipy.stats as stats"
   ]
  },
  {
   "cell_type": "code",
   "execution_count": 430,
   "id": "3a933582-5762-4ce9-bffd-fefc9c2efda0",
   "metadata": {
    "tags": []
   },
   "outputs": [
    {
     "data": {
      "text/html": [
       "<div>\n",
       "<style scoped>\n",
       "    .dataframe tbody tr th:only-of-type {\n",
       "        vertical-align: middle;\n",
       "    }\n",
       "\n",
       "    .dataframe tbody tr th {\n",
       "        vertical-align: top;\n",
       "    }\n",
       "\n",
       "    .dataframe thead th {\n",
       "        text-align: right;\n",
       "    }\n",
       "</style>\n",
       "<table border=\"1\" class=\"dataframe\">\n",
       "  <thead>\n",
       "    <tr style=\"text-align: right;\">\n",
       "      <th></th>\n",
       "      <th>Unnamed: 0</th>\n",
       "      <th>North East</th>\n",
       "      <th>North West</th>\n",
       "      <th>Yorkshire and The Humber</th>\n",
       "      <th>East Midlands</th>\n",
       "      <th>West Midlands</th>\n",
       "      <th>East of England</th>\n",
       "      <th>London</th>\n",
       "      <th>South East</th>\n",
       "      <th>South West</th>\n",
       "    </tr>\n",
       "  </thead>\n",
       "  <tbody>\n",
       "    <tr>\n",
       "      <th>0</th>\n",
       "      <td>0</td>\n",
       "      <td>27</td>\n",
       "      <td>32</td>\n",
       "      <td>65</td>\n",
       "      <td>60</td>\n",
       "      <td>44</td>\n",
       "      <td>79</td>\n",
       "      <td>43</td>\n",
       "      <td>8</td>\n",
       "      <td>9</td>\n",
       "    </tr>\n",
       "    <tr>\n",
       "      <th>1</th>\n",
       "      <td>1</td>\n",
       "      <td>10</td>\n",
       "      <td>36</td>\n",
       "      <td>40</td>\n",
       "      <td>19</td>\n",
       "      <td>52</td>\n",
       "      <td>46</td>\n",
       "      <td>58</td>\n",
       "      <td>87</td>\n",
       "      <td>40</td>\n",
       "    </tr>\n",
       "    <tr>\n",
       "      <th>2</th>\n",
       "      <td>2</td>\n",
       "      <td>82</td>\n",
       "      <td>53</td>\n",
       "      <td>60</td>\n",
       "      <td>34</td>\n",
       "      <td>2</td>\n",
       "      <td>29</td>\n",
       "      <td>18</td>\n",
       "      <td>46</td>\n",
       "      <td>57</td>\n",
       "    </tr>\n",
       "    <tr>\n",
       "      <th>3</th>\n",
       "      <td>3</td>\n",
       "      <td>33</td>\n",
       "      <td>63</td>\n",
       "      <td>25</td>\n",
       "      <td>60</td>\n",
       "      <td>9</td>\n",
       "      <td>26</td>\n",
       "      <td>30</td>\n",
       "      <td>52</td>\n",
       "      <td>74</td>\n",
       "    </tr>\n",
       "    <tr>\n",
       "      <th>4</th>\n",
       "      <td>4</td>\n",
       "      <td>55</td>\n",
       "      <td>98</td>\n",
       "      <td>4</td>\n",
       "      <td>47</td>\n",
       "      <td>58</td>\n",
       "      <td>37</td>\n",
       "      <td>18</td>\n",
       "      <td>67</td>\n",
       "      <td>19</td>\n",
       "    </tr>\n",
       "    <tr>\n",
       "      <th>5</th>\n",
       "      <td>5</td>\n",
       "      <td>27</td>\n",
       "      <td>26</td>\n",
       "      <td>66</td>\n",
       "      <td>70</td>\n",
       "      <td>33</td>\n",
       "      <td>41</td>\n",
       "      <td>38</td>\n",
       "      <td>78</td>\n",
       "      <td>63</td>\n",
       "    </tr>\n",
       "    <tr>\n",
       "      <th>6</th>\n",
       "      <td>6</td>\n",
       "      <td>42</td>\n",
       "      <td>44</td>\n",
       "      <td>49</td>\n",
       "      <td>59</td>\n",
       "      <td>40</td>\n",
       "      <td>65</td>\n",
       "      <td>13</td>\n",
       "      <td>8</td>\n",
       "      <td>52</td>\n",
       "    </tr>\n",
       "    <tr>\n",
       "      <th>7</th>\n",
       "      <td>7</td>\n",
       "      <td>62</td>\n",
       "      <td>44</td>\n",
       "      <td>41</td>\n",
       "      <td>76</td>\n",
       "      <td>8</td>\n",
       "      <td>74</td>\n",
       "      <td>54</td>\n",
       "      <td>40</td>\n",
       "      <td>72</td>\n",
       "    </tr>\n",
       "    <tr>\n",
       "      <th>8</th>\n",
       "      <td>8</td>\n",
       "      <td>34</td>\n",
       "      <td>17</td>\n",
       "      <td>33</td>\n",
       "      <td>71</td>\n",
       "      <td>45</td>\n",
       "      <td>73</td>\n",
       "      <td>1</td>\n",
       "      <td>77</td>\n",
       "      <td>75</td>\n",
       "    </tr>\n",
       "    <tr>\n",
       "      <th>9</th>\n",
       "      <td>9</td>\n",
       "      <td>15</td>\n",
       "      <td>46</td>\n",
       "      <td>37</td>\n",
       "      <td>3</td>\n",
       "      <td>13</td>\n",
       "      <td>41</td>\n",
       "      <td>19</td>\n",
       "      <td>47</td>\n",
       "      <td>69</td>\n",
       "    </tr>\n",
       "  </tbody>\n",
       "</table>\n",
       "</div>"
      ],
      "text/plain": [
       "   Unnamed: 0  North East  North West  Yorkshire and The Humber  \\\n",
       "0           0          27          32                        65   \n",
       "1           1          10          36                        40   \n",
       "2           2          82          53                        60   \n",
       "3           3          33          63                        25   \n",
       "4           4          55          98                         4   \n",
       "5           5          27          26                        66   \n",
       "6           6          42          44                        49   \n",
       "7           7          62          44                        41   \n",
       "8           8          34          17                        33   \n",
       "9           9          15          46                        37   \n",
       "\n",
       "   East Midlands  West Midlands  East of England  London  South East  \\\n",
       "0             60             44               79      43           8   \n",
       "1             19             52               46      58          87   \n",
       "2             34              2               29      18          46   \n",
       "3             60              9               26      30          52   \n",
       "4             47             58               37      18          67   \n",
       "5             70             33               41      38          78   \n",
       "6             59             40               65      13           8   \n",
       "7             76              8               74      54          40   \n",
       "8             71             45               73       1          77   \n",
       "9              3             13               41      19          47   \n",
       "\n",
       "   South West  \n",
       "0           9  \n",
       "1          40  \n",
       "2          57  \n",
       "3          74  \n",
       "4          19  \n",
       "5          63  \n",
       "6          52  \n",
       "7          72  \n",
       "8          75  \n",
       "9          69  "
      ]
     },
     "execution_count": 430,
     "metadata": {},
     "output_type": "execute_result"
    }
   ],
   "source": [
    "df = pd.read_csv(\"census11sample.csv\")\n",
    "df.head(10)"
   ]
  },
  {
   "cell_type": "code",
   "execution_count": 413,
   "id": "94ac1b2a-9b8c-4e66-a7d2-9575424a2802",
   "metadata": {
    "tags": []
   },
   "outputs": [
    {
     "data": {
      "text/plain": [
       "Unnamed: 0                  1000\n",
       "North East                  1000\n",
       "North West                  1000\n",
       "Yorkshire and The Humber    1000\n",
       "East Midlands               1000\n",
       "West Midlands               1000\n",
       "East of England             1000\n",
       "London                      1000\n",
       "South East                  1000\n",
       "South West                  1000\n",
       "dtype: int64"
      ]
     },
     "execution_count": 413,
     "metadata": {},
     "output_type": "execute_result"
    }
   ],
   "source": [
    "# making sure that we don't have any null values in the dataset.\n",
    "# the .count() method will tell us how many non-null values we have in the dataset.\n",
    "# our aim is to have 1000 for each column.\n",
    "df.count()"
   ]
  },
  {
   "cell_type": "code",
   "execution_count": 414,
   "id": "0a54ddb3-ccf7-4136-b35d-93ba36bed44c",
   "metadata": {
    "tags": []
   },
   "outputs": [
    {
     "data": {
      "text/html": [
       "<div>\n",
       "<style scoped>\n",
       "    .dataframe tbody tr th:only-of-type {\n",
       "        vertical-align: middle;\n",
       "    }\n",
       "\n",
       "    .dataframe tbody tr th {\n",
       "        vertical-align: top;\n",
       "    }\n",
       "\n",
       "    .dataframe thead th {\n",
       "        text-align: right;\n",
       "    }\n",
       "</style>\n",
       "<table border=\"1\" class=\"dataframe\">\n",
       "  <thead>\n",
       "    <tr style=\"text-align: right;\">\n",
       "      <th></th>\n",
       "      <th>North East</th>\n",
       "      <th>North West</th>\n",
       "      <th>Yorkshire and The Humber</th>\n",
       "      <th>East Midlands</th>\n",
       "      <th>West Midlands</th>\n",
       "      <th>East of England</th>\n",
       "      <th>London</th>\n",
       "      <th>South East</th>\n",
       "      <th>South West</th>\n",
       "    </tr>\n",
       "    <tr>\n",
       "      <th>Individual ages</th>\n",
       "      <th></th>\n",
       "      <th></th>\n",
       "      <th></th>\n",
       "      <th></th>\n",
       "      <th></th>\n",
       "      <th></th>\n",
       "      <th></th>\n",
       "      <th></th>\n",
       "      <th></th>\n",
       "    </tr>\n",
       "  </thead>\n",
       "  <tbody>\n",
       "    <tr>\n",
       "      <th>0</th>\n",
       "      <td>27</td>\n",
       "      <td>32</td>\n",
       "      <td>65</td>\n",
       "      <td>60</td>\n",
       "      <td>44</td>\n",
       "      <td>79</td>\n",
       "      <td>43</td>\n",
       "      <td>8</td>\n",
       "      <td>9</td>\n",
       "    </tr>\n",
       "    <tr>\n",
       "      <th>1</th>\n",
       "      <td>10</td>\n",
       "      <td>36</td>\n",
       "      <td>40</td>\n",
       "      <td>19</td>\n",
       "      <td>52</td>\n",
       "      <td>46</td>\n",
       "      <td>58</td>\n",
       "      <td>87</td>\n",
       "      <td>40</td>\n",
       "    </tr>\n",
       "    <tr>\n",
       "      <th>2</th>\n",
       "      <td>82</td>\n",
       "      <td>53</td>\n",
       "      <td>60</td>\n",
       "      <td>34</td>\n",
       "      <td>2</td>\n",
       "      <td>29</td>\n",
       "      <td>18</td>\n",
       "      <td>46</td>\n",
       "      <td>57</td>\n",
       "    </tr>\n",
       "    <tr>\n",
       "      <th>3</th>\n",
       "      <td>33</td>\n",
       "      <td>63</td>\n",
       "      <td>25</td>\n",
       "      <td>60</td>\n",
       "      <td>9</td>\n",
       "      <td>26</td>\n",
       "      <td>30</td>\n",
       "      <td>52</td>\n",
       "      <td>74</td>\n",
       "    </tr>\n",
       "    <tr>\n",
       "      <th>4</th>\n",
       "      <td>55</td>\n",
       "      <td>98</td>\n",
       "      <td>4</td>\n",
       "      <td>47</td>\n",
       "      <td>58</td>\n",
       "      <td>37</td>\n",
       "      <td>18</td>\n",
       "      <td>67</td>\n",
       "      <td>19</td>\n",
       "    </tr>\n",
       "  </tbody>\n",
       "</table>\n",
       "</div>"
      ],
      "text/plain": [
       "                 North East  North West  Yorkshire and The Humber  \\\n",
       "Individual ages                                                     \n",
       "0                        27          32                        65   \n",
       "1                        10          36                        40   \n",
       "2                        82          53                        60   \n",
       "3                        33          63                        25   \n",
       "4                        55          98                         4   \n",
       "\n",
       "                 East Midlands  West Midlands  East of England  London  \\\n",
       "Individual ages                                                          \n",
       "0                           60             44               79      43   \n",
       "1                           19             52               46      58   \n",
       "2                           34              2               29      18   \n",
       "3                           60              9               26      30   \n",
       "4                           47             58               37      18   \n",
       "\n",
       "                 South East  South West  \n",
       "Individual ages                          \n",
       "0                         8           9  \n",
       "1                        87          40  \n",
       "2                        46          57  \n",
       "3                        52          74  \n",
       "4                        67          19  "
      ]
     },
     "execution_count": 414,
     "metadata": {},
     "output_type": "execute_result"
    }
   ],
   "source": [
    "# Drop the 'Unnamed: 0' column, which seems to be an index column\n",
    "df.drop('Unnamed: 0', axis=1, inplace=True)\n",
    "# Rename the index column to 'Index'\n",
    "df = df.rename_axis('Individual ages')\n",
    "df.head()"
   ]
  },
  {
   "cell_type": "markdown",
   "id": "a7e968f7-ab00-4a01-be42-ee5b64ca7127",
   "metadata": {},
   "source": [
    "## Divide the data (2 marks)"
   ]
  },
  {
   "cell_type": "markdown",
   "id": "707fa2a0-2122-4e52-b076-1ad00d20a9ac",
   "metadata": {},
   "source": [
    "Using the train_test_split function from the sklearn.model_selection package to split our data into a sample_explore for data exploration and sample_test for hypothesis testing. We will perform a 80/20 data split with the sample_explore data representing 80% of the parent(original) dataset."
   ]
  },
  {
   "cell_type": "code",
   "execution_count": 415,
   "id": "76177ed4-cdda-4f8d-bf1c-ee479cc2e5b0",
   "metadata": {
    "tags": []
   },
   "outputs": [],
   "source": [
    "from sklearn.model_selection import train_test_split"
   ]
  },
  {
   "cell_type": "code",
   "execution_count": 416,
   "id": "602bb2c8-fc3d-4bb0-a78a-c66f0356e8bc",
   "metadata": {
    "tags": []
   },
   "outputs": [],
   "source": [
    "sample_explore, sample_test = train_test_split(df, test_size = 0.3)"
   ]
  },
  {
   "cell_type": "code",
   "execution_count": 417,
   "id": "13948f3a-4c44-43cc-badb-e4a599753c87",
   "metadata": {
    "tags": []
   },
   "outputs": [
    {
     "data": {
      "text/html": [
       "<div>\n",
       "<style scoped>\n",
       "    .dataframe tbody tr th:only-of-type {\n",
       "        vertical-align: middle;\n",
       "    }\n",
       "\n",
       "    .dataframe tbody tr th {\n",
       "        vertical-align: top;\n",
       "    }\n",
       "\n",
       "    .dataframe thead th {\n",
       "        text-align: right;\n",
       "    }\n",
       "</style>\n",
       "<table border=\"1\" class=\"dataframe\">\n",
       "  <thead>\n",
       "    <tr style=\"text-align: right;\">\n",
       "      <th></th>\n",
       "      <th>North East</th>\n",
       "      <th>North West</th>\n",
       "      <th>Yorkshire and The Humber</th>\n",
       "      <th>East Midlands</th>\n",
       "      <th>West Midlands</th>\n",
       "      <th>East of England</th>\n",
       "      <th>London</th>\n",
       "      <th>South East</th>\n",
       "      <th>South West</th>\n",
       "    </tr>\n",
       "    <tr>\n",
       "      <th>Individual ages</th>\n",
       "      <th></th>\n",
       "      <th></th>\n",
       "      <th></th>\n",
       "      <th></th>\n",
       "      <th></th>\n",
       "      <th></th>\n",
       "      <th></th>\n",
       "      <th></th>\n",
       "      <th></th>\n",
       "    </tr>\n",
       "  </thead>\n",
       "  <tbody>\n",
       "    <tr>\n",
       "      <th>447</th>\n",
       "      <td>33</td>\n",
       "      <td>58</td>\n",
       "      <td>30</td>\n",
       "      <td>27</td>\n",
       "      <td>42</td>\n",
       "      <td>0</td>\n",
       "      <td>53</td>\n",
       "      <td>22</td>\n",
       "      <td>1</td>\n",
       "    </tr>\n",
       "    <tr>\n",
       "      <th>143</th>\n",
       "      <td>76</td>\n",
       "      <td>50</td>\n",
       "      <td>26</td>\n",
       "      <td>61</td>\n",
       "      <td>46</td>\n",
       "      <td>14</td>\n",
       "      <td>10</td>\n",
       "      <td>15</td>\n",
       "      <td>49</td>\n",
       "    </tr>\n",
       "    <tr>\n",
       "      <th>339</th>\n",
       "      <td>4</td>\n",
       "      <td>36</td>\n",
       "      <td>59</td>\n",
       "      <td>59</td>\n",
       "      <td>78</td>\n",
       "      <td>30</td>\n",
       "      <td>41</td>\n",
       "      <td>20</td>\n",
       "      <td>35</td>\n",
       "    </tr>\n",
       "    <tr>\n",
       "      <th>271</th>\n",
       "      <td>57</td>\n",
       "      <td>44</td>\n",
       "      <td>19</td>\n",
       "      <td>22</td>\n",
       "      <td>34</td>\n",
       "      <td>14</td>\n",
       "      <td>14</td>\n",
       "      <td>9</td>\n",
       "      <td>29</td>\n",
       "    </tr>\n",
       "    <tr>\n",
       "      <th>872</th>\n",
       "      <td>49</td>\n",
       "      <td>60</td>\n",
       "      <td>15</td>\n",
       "      <td>35</td>\n",
       "      <td>68</td>\n",
       "      <td>52</td>\n",
       "      <td>16</td>\n",
       "      <td>71</td>\n",
       "      <td>72</td>\n",
       "    </tr>\n",
       "  </tbody>\n",
       "</table>\n",
       "</div>"
      ],
      "text/plain": [
       "                 North East  North West  Yorkshire and The Humber  \\\n",
       "Individual ages                                                     \n",
       "447                      33          58                        30   \n",
       "143                      76          50                        26   \n",
       "339                       4          36                        59   \n",
       "271                      57          44                        19   \n",
       "872                      49          60                        15   \n",
       "\n",
       "                 East Midlands  West Midlands  East of England  London  \\\n",
       "Individual ages                                                          \n",
       "447                         27             42                0      53   \n",
       "143                         61             46               14      10   \n",
       "339                         59             78               30      41   \n",
       "271                         22             34               14      14   \n",
       "872                         35             68               52      16   \n",
       "\n",
       "                 South East  South West  \n",
       "Individual ages                          \n",
       "447                      22           1  \n",
       "143                      15          49  \n",
       "339                      20          35  \n",
       "271                       9          29  \n",
       "872                      71          72  "
      ]
     },
     "execution_count": 417,
     "metadata": {},
     "output_type": "execute_result"
    }
   ],
   "source": [
    "sample_explore.head()"
   ]
  },
  {
   "cell_type": "code",
   "execution_count": 418,
   "id": "d8de9f4a-d059-4b87-9896-509c5c521492",
   "metadata": {
    "tags": []
   },
   "outputs": [
    {
     "data": {
      "text/html": [
       "<div>\n",
       "<style scoped>\n",
       "    .dataframe tbody tr th:only-of-type {\n",
       "        vertical-align: middle;\n",
       "    }\n",
       "\n",
       "    .dataframe tbody tr th {\n",
       "        vertical-align: top;\n",
       "    }\n",
       "\n",
       "    .dataframe thead th {\n",
       "        text-align: right;\n",
       "    }\n",
       "</style>\n",
       "<table border=\"1\" class=\"dataframe\">\n",
       "  <thead>\n",
       "    <tr style=\"text-align: right;\">\n",
       "      <th></th>\n",
       "      <th>North East</th>\n",
       "      <th>North West</th>\n",
       "      <th>Yorkshire and The Humber</th>\n",
       "      <th>East Midlands</th>\n",
       "      <th>West Midlands</th>\n",
       "      <th>East of England</th>\n",
       "      <th>London</th>\n",
       "      <th>South East</th>\n",
       "      <th>South West</th>\n",
       "    </tr>\n",
       "    <tr>\n",
       "      <th>Individual ages</th>\n",
       "      <th></th>\n",
       "      <th></th>\n",
       "      <th></th>\n",
       "      <th></th>\n",
       "      <th></th>\n",
       "      <th></th>\n",
       "      <th></th>\n",
       "      <th></th>\n",
       "      <th></th>\n",
       "    </tr>\n",
       "  </thead>\n",
       "  <tbody>\n",
       "    <tr>\n",
       "      <th>386</th>\n",
       "      <td>19</td>\n",
       "      <td>26</td>\n",
       "      <td>27</td>\n",
       "      <td>38</td>\n",
       "      <td>68</td>\n",
       "      <td>21</td>\n",
       "      <td>52</td>\n",
       "      <td>11</td>\n",
       "      <td>15</td>\n",
       "    </tr>\n",
       "    <tr>\n",
       "      <th>988</th>\n",
       "      <td>24</td>\n",
       "      <td>11</td>\n",
       "      <td>59</td>\n",
       "      <td>15</td>\n",
       "      <td>2</td>\n",
       "      <td>33</td>\n",
       "      <td>81</td>\n",
       "      <td>89</td>\n",
       "      <td>13</td>\n",
       "    </tr>\n",
       "    <tr>\n",
       "      <th>605</th>\n",
       "      <td>26</td>\n",
       "      <td>0</td>\n",
       "      <td>47</td>\n",
       "      <td>66</td>\n",
       "      <td>10</td>\n",
       "      <td>29</td>\n",
       "      <td>63</td>\n",
       "      <td>6</td>\n",
       "      <td>6</td>\n",
       "    </tr>\n",
       "    <tr>\n",
       "      <th>928</th>\n",
       "      <td>60</td>\n",
       "      <td>32</td>\n",
       "      <td>42</td>\n",
       "      <td>52</td>\n",
       "      <td>77</td>\n",
       "      <td>9</td>\n",
       "      <td>57</td>\n",
       "      <td>0</td>\n",
       "      <td>5</td>\n",
       "    </tr>\n",
       "    <tr>\n",
       "      <th>26</th>\n",
       "      <td>60</td>\n",
       "      <td>44</td>\n",
       "      <td>42</td>\n",
       "      <td>75</td>\n",
       "      <td>29</td>\n",
       "      <td>48</td>\n",
       "      <td>34</td>\n",
       "      <td>14</td>\n",
       "      <td>58</td>\n",
       "    </tr>\n",
       "  </tbody>\n",
       "</table>\n",
       "</div>"
      ],
      "text/plain": [
       "                 North East  North West  Yorkshire and The Humber  \\\n",
       "Individual ages                                                     \n",
       "386                      19          26                        27   \n",
       "988                      24          11                        59   \n",
       "605                      26           0                        47   \n",
       "928                      60          32                        42   \n",
       "26                       60          44                        42   \n",
       "\n",
       "                 East Midlands  West Midlands  East of England  London  \\\n",
       "Individual ages                                                          \n",
       "386                         38             68               21      52   \n",
       "988                         15              2               33      81   \n",
       "605                         66             10               29      63   \n",
       "928                         52             77                9      57   \n",
       "26                          75             29               48      34   \n",
       "\n",
       "                 South East  South West  \n",
       "Individual ages                          \n",
       "386                      11          15  \n",
       "988                      89          13  \n",
       "605                       6           6  \n",
       "928                       0           5  \n",
       "26                       14          58  "
      ]
     },
     "execution_count": 418,
     "metadata": {},
     "output_type": "execute_result"
    }
   ],
   "source": [
    "sample_test.head()"
   ]
  },
  {
   "cell_type": "markdown",
   "id": "9a5784ff-b2fa-45bc-94c9-0a280ec9479d",
   "metadata": {},
   "source": [
    "## Explore the data (5 marks)"
   ]
  },
  {
   "cell_type": "code",
   "execution_count": 419,
   "id": "e1d4853d-56ed-462b-941e-dd845f2d7e66",
   "metadata": {
    "tags": []
   },
   "outputs": [
    {
     "data": {
      "text/html": [
       "<div>\n",
       "<style scoped>\n",
       "    .dataframe tbody tr th:only-of-type {\n",
       "        vertical-align: middle;\n",
       "    }\n",
       "\n",
       "    .dataframe tbody tr th {\n",
       "        vertical-align: top;\n",
       "    }\n",
       "\n",
       "    .dataframe thead th {\n",
       "        text-align: right;\n",
       "    }\n",
       "</style>\n",
       "<table border=\"1\" class=\"dataframe\">\n",
       "  <thead>\n",
       "    <tr style=\"text-align: right;\">\n",
       "      <th></th>\n",
       "      <th>North East</th>\n",
       "      <th>North West</th>\n",
       "      <th>Yorkshire and The Humber</th>\n",
       "      <th>East Midlands</th>\n",
       "      <th>West Midlands</th>\n",
       "      <th>East of England</th>\n",
       "      <th>London</th>\n",
       "      <th>South East</th>\n",
       "      <th>South West</th>\n",
       "    </tr>\n",
       "  </thead>\n",
       "  <tbody>\n",
       "    <tr>\n",
       "      <th>count</th>\n",
       "      <td>700.000000</td>\n",
       "      <td>700.000000</td>\n",
       "      <td>700.000000</td>\n",
       "      <td>700.000000</td>\n",
       "      <td>700.000000</td>\n",
       "      <td>700.000000</td>\n",
       "      <td>700.000000</td>\n",
       "      <td>700.000000</td>\n",
       "      <td>700.000000</td>\n",
       "    </tr>\n",
       "    <tr>\n",
       "      <th>mean</th>\n",
       "      <td>40.037143</td>\n",
       "      <td>37.731429</td>\n",
       "      <td>37.620000</td>\n",
       "      <td>39.265714</td>\n",
       "      <td>39.842857</td>\n",
       "      <td>41.681429</td>\n",
       "      <td>35.870000</td>\n",
       "      <td>39.852857</td>\n",
       "      <td>42.977143</td>\n",
       "    </tr>\n",
       "    <tr>\n",
       "      <th>std</th>\n",
       "      <td>23.572098</td>\n",
       "      <td>23.463163</td>\n",
       "      <td>23.116453</td>\n",
       "      <td>23.756110</td>\n",
       "      <td>23.361093</td>\n",
       "      <td>24.008819</td>\n",
       "      <td>22.160398</td>\n",
       "      <td>22.523040</td>\n",
       "      <td>24.574014</td>\n",
       "    </tr>\n",
       "    <tr>\n",
       "      <th>min</th>\n",
       "      <td>0.000000</td>\n",
       "      <td>0.000000</td>\n",
       "      <td>0.000000</td>\n",
       "      <td>0.000000</td>\n",
       "      <td>0.000000</td>\n",
       "      <td>0.000000</td>\n",
       "      <td>0.000000</td>\n",
       "      <td>0.000000</td>\n",
       "      <td>0.000000</td>\n",
       "    </tr>\n",
       "    <tr>\n",
       "      <th>25%</th>\n",
       "      <td>20.750000</td>\n",
       "      <td>18.000000</td>\n",
       "      <td>18.000000</td>\n",
       "      <td>19.000000</td>\n",
       "      <td>20.000000</td>\n",
       "      <td>21.750000</td>\n",
       "      <td>18.000000</td>\n",
       "      <td>21.000000</td>\n",
       "      <td>22.000000</td>\n",
       "    </tr>\n",
       "    <tr>\n",
       "      <th>50%</th>\n",
       "      <td>41.000000</td>\n",
       "      <td>37.000000</td>\n",
       "      <td>37.000000</td>\n",
       "      <td>38.000000</td>\n",
       "      <td>40.000000</td>\n",
       "      <td>41.000000</td>\n",
       "      <td>34.000000</td>\n",
       "      <td>40.000000</td>\n",
       "      <td>44.000000</td>\n",
       "    </tr>\n",
       "    <tr>\n",
       "      <th>75%</th>\n",
       "      <td>58.000000</td>\n",
       "      <td>56.000000</td>\n",
       "      <td>54.000000</td>\n",
       "      <td>58.000000</td>\n",
       "      <td>58.000000</td>\n",
       "      <td>61.000000</td>\n",
       "      <td>51.000000</td>\n",
       "      <td>58.000000</td>\n",
       "      <td>61.000000</td>\n",
       "    </tr>\n",
       "    <tr>\n",
       "      <th>max</th>\n",
       "      <td>94.000000</td>\n",
       "      <td>99.000000</td>\n",
       "      <td>100.000000</td>\n",
       "      <td>95.000000</td>\n",
       "      <td>96.000000</td>\n",
       "      <td>97.000000</td>\n",
       "      <td>96.000000</td>\n",
       "      <td>95.000000</td>\n",
       "      <td>97.000000</td>\n",
       "    </tr>\n",
       "  </tbody>\n",
       "</table>\n",
       "</div>"
      ],
      "text/plain": [
       "       North East  North West  Yorkshire and The Humber  East Midlands  \\\n",
       "count  700.000000  700.000000                700.000000     700.000000   \n",
       "mean    40.037143   37.731429                 37.620000      39.265714   \n",
       "std     23.572098   23.463163                 23.116453      23.756110   \n",
       "min      0.000000    0.000000                  0.000000       0.000000   \n",
       "25%     20.750000   18.000000                 18.000000      19.000000   \n",
       "50%     41.000000   37.000000                 37.000000      38.000000   \n",
       "75%     58.000000   56.000000                 54.000000      58.000000   \n",
       "max     94.000000   99.000000                100.000000      95.000000   \n",
       "\n",
       "       West Midlands  East of England      London  South East  South West  \n",
       "count     700.000000       700.000000  700.000000  700.000000  700.000000  \n",
       "mean       39.842857        41.681429   35.870000   39.852857   42.977143  \n",
       "std        23.361093        24.008819   22.160398   22.523040   24.574014  \n",
       "min         0.000000         0.000000    0.000000    0.000000    0.000000  \n",
       "25%        20.000000        21.750000   18.000000   21.000000   22.000000  \n",
       "50%        40.000000        41.000000   34.000000   40.000000   44.000000  \n",
       "75%        58.000000        61.000000   51.000000   58.000000   61.000000  \n",
       "max        96.000000        97.000000   96.000000   95.000000   97.000000  "
      ]
     },
     "execution_count": 419,
     "metadata": {},
     "output_type": "execute_result"
    }
   ],
   "source": [
    "sample_explore.describe()"
   ]
  },
  {
   "cell_type": "markdown",
   "id": "febe097c-c9c2-4320-9d6a-52b0241dfa0a",
   "metadata": {},
   "source": [
    "Exploring the descriptive statistics, we realise that there is no significant diffence between the population mean of the North East and the West Midlands."
   ]
  },
  {
   "cell_type": "code",
   "execution_count": 420,
   "id": "a9b99926-8e5f-442f-a8a4-191b1f9f655e",
   "metadata": {
    "tags": []
   },
   "outputs": [
    {
     "data": {
      "image/png": "[encoded data removed]",
      "text/plain": [
       "<Figure size 640x480 with 1 Axes>"
      ]
     },
     "metadata": {},
     "output_type": "display_data"
    }
   ],
   "source": [
    "fig, ax = plt.subplots()\n",
    "ax.boxplot(sample_explore)\n",
    "ax.set_title(\"Boxplot of sample_explore\")\n",
    "ax.set_xticklabels(sample_explore.columns, rotation=90)\n",
    "ax.set_xlabel('Column Name')\n",
    "ax.set_ylabel('Value')\n",
    "plt.show()"
   ]
  },
  {
   "cell_type": "code",
   "execution_count": 421,
   "id": "f92674ea-ac86-4894-bbc6-076b3b1e1e73",
   "metadata": {
    "tags": []
   },
   "outputs": [
    {
     "data": {
      "image/png": "[encoded data removed]",
      "text/plain": [
       "<Figure size 640x480 with 1 Axes>"
      ]
     },
     "metadata": {},
     "output_type": "display_data"
    }
   ],
   "source": [
    "fig, ax = plt.subplots()\n",
    "for region_name, region_data in sample_explore.items():\n",
    "    ax.hist(sample_explore, bins=10, label=region_name)\n",
    "ax.set_xticks(np.arange(0, 100, 10))\n",
    "ax.set_xlabel(\"Age\")\n",
    "ax.set_ylabel(\"Age Frequency\")\n",
    "ax.legend(bbox_to_anchor=(1, 1))\n",
    "plt.show()"
   ]
  },
  {
   "cell_type": "code",
   "execution_count": 428,
   "id": "dc39a188-001b-4152-9aa1-5d23fcce7527",
   "metadata": {
    "tags": []
   },
   "outputs": [
    {
     "data": {
      "image/png": "[encoded data removed]",
      "text/plain": [
       "<Figure size 1200x400 with 2 Axes>"
      ]
     },
     "metadata": {},
     "output_type": "display_data"
    }
   ],
   "source": [
    "fig, ax = plt.subplots(1, 2, figsize=(12, 4))\n",
    "\n",
    "regions = [\"North East\", \"West Midlands\"]\n",
    "\n",
    "for i, region in enumerate(regions):\n",
    "    counts, bins, patches = ax[i].hist(sample_explore[region], bins=60, density=True)\n",
    "    ax[i].set_title(region)\n",
    "    ax[i].axvline(x=sample_explore[region].mean(), color='red', linestyle='dashed', linewidth=1, label = 'mean')\n",
    "    ax[i].axvline(x=sample_explore[region].median(), color='yellow', linestyle='-', linewidth=1, label = 'median')\n",
    "    ax[i].set_xticks(np.arange(0, 100, 10))\n",
    "    \n",
    "    \n",
    "    bin_centers = 0.5*(bins[1:] + bins[:-1])\n",
    "    bin_widths = bins[1:] - bins[:-1]\n",
    "    bin_areas = bin_widths * counts\n",
    "    total_area = np.sum(bin_areas)\n",
    "    norm_counts = counts / total_area\n",
    "    ax[i].bar(bin_centers, norm_counts, width=bin_widths, alpha=0.5)\n",
    "    \n",
    "    # Plot normal distribution\n",
    "    mean = sample_explore[region].mean()\n",
    "    std = sample_explore[region].std()\n",
    "    x = np.linspace(0, 100, 1000)\n",
    "    y = norm.pdf(x, mean, std)\n",
    "    ax[i].plot(x, y, 'r', alpha=0.8, label = 'Normal Distribution')\n",
    "    \n",
    "    kde = stats.gaussian_kde(sample_explore[region])\n",
    "    y2 = kde(x)\n",
    "    ax[i].plot(x, y2, label = 'Real distribution')\n",
    "    ax[i].legend()\n",
    "    \n",
    "    \n",
    "\n",
    "fig.text(0.5, 0.01, 'Individual ages', ha='center', fontsize=14)\n",
    "fig.text(0.04, 0.5, 'frequency', va='center', rotation='vertical', fontsize=14)\n",
    "plt.subplots_adjust(hspace=0.4, wspace=0.2)\n",
    "plt.show()"
   ]
  },
  {
   "cell_type": "markdown",
   "id": "bf3c10eb-b167-4672-b2ca-1559314426e3",
   "metadata": {},
   "source": [
    "After exploring the Histogram of the two regions, we realise that they have a similar real distibution as well as a very similar mean and median values."
   ]
  },
  {
   "cell_type": "markdown",
   "id": "8a5a8e4d-7b24-49ab-9abb-e315a6b5c08a",
   "metadata": {},
   "source": [
    "checking for normality using a QQ plot.\n"
   ]
  },
  {
   "cell_type": "code",
   "execution_count": 423,
   "id": "c2f952a5-e2b3-4c9c-a19e-37733625abdb",
   "metadata": {
    "tags": []
   },
   "outputs": [
    {
     "data": {
      "image/png": "[encoded data removed]",
      "text/plain": [
       "<Figure size 1000x500 with 2 Axes>"
      ]
     },
     "metadata": {},
     "output_type": "display_data"
    }
   ],
   "source": [
    "fig, ax = plt. subplots(1, 2, figsize=(10, 5))\n",
    "stats.probplot(df['North East'], plot=ax[0])\n",
    "stats.probplot(df[ 'West Midlands' ], plot=ax[1])\n",
    "ax[0].set_title('North East Normal Probability Plot')\n",
    "ax[1].set_title ('West Midlands Normal Probability Plot')\n",
    "plt.show()"
   ]
  },
  {
   "cell_type": "markdown",
   "id": "e45dda6e-8d2f-4b5b-804e-bbce5df26e6c",
   "metadata": {
    "tags": []
   },
   "source": [
    "## State your hypothesis, and state the evidence that justifies it. (2 marks)"
   ]
  },
  {
   "cell_type": "markdown",
   "id": "296312af-535a-4b6b-853e-982c75ff3162",
   "metadata": {
    "tags": []
   },
   "source": [
    "Null Hypothesis (H0): The mean age of West Midlands and North East is equal.\n",
    "\n",
    "Alternative Hypothesis (H1): The mean age of West Midlands and the North East is not equal.\n",
    "\n",
    "Symbolically, we can represent these hypotheses as:\n",
    "\n",
    "H0: μL = μNE\n",
    "\n",
    "H1: μL ≠ μNE\n",
    "\n",
    "We chose this hypothesis since during the exploration, we realised that the mean of North East(40.527143) and West Midlands(40.672857) are aproximately the same. Furthermore, the Histogram and the Scatter plots showed us that the distribution, mean and standard deviation of the two regions is very similar."
   ]
  },
  {
   "cell_type": "markdown",
   "id": "371e6bbe-87fc-442d-8e02-71d96044709b",
   "metadata": {},
   "source": [
    "## Plan the test. (3 marks)"
   ]
  },
  {
   "cell_type": "markdown",
   "id": "8e361fcd-eda1-4552-89ca-2e9424d8ac7f",
   "metadata": {},
   "source": [
    "In order to test our hypothesis, we plan to conduct a t-test with a confidence level of 95% and an alpha level of 5%. To conduct our test, we may assume that the random variables derived from the distribution are independent and identically distribued. Firstly, we will compare the p-value with the alpha level. if p > alpha, we accept H0, however, if p < alpha, we will reject H0. Furthermore, we will conduct a two tailed test and compute the test statistical value and observe if it occurs in the accepting or rejecting regions of the distribution."
   ]
  },
  {
   "cell_type": "markdown",
   "id": "e5c7cc1f-2f82-4eb7-9891-c76b66ebbc35",
   "metadata": {},
   "source": [
    "## Perform the statistical test of the hypothesis. (5 marks)"
   ]
  },
  {
   "cell_type": "code",
   "execution_count": 424,
   "id": "e494fdae-4d55-4140-9b35-8f30b07470e6",
   "metadata": {
    "tags": []
   },
   "outputs": [
    {
     "data": {
      "text/html": [
       "<div>\n",
       "<style scoped>\n",
       "    .dataframe tbody tr th:only-of-type {\n",
       "        vertical-align: middle;\n",
       "    }\n",
       "\n",
       "    .dataframe tbody tr th {\n",
       "        vertical-align: top;\n",
       "    }\n",
       "\n",
       "    .dataframe thead th {\n",
       "        text-align: right;\n",
       "    }\n",
       "</style>\n",
       "<table border=\"1\" class=\"dataframe\">\n",
       "  <thead>\n",
       "    <tr style=\"text-align: right;\">\n",
       "      <th></th>\n",
       "      <th>North East</th>\n",
       "      <th>North West</th>\n",
       "      <th>Yorkshire and The Humber</th>\n",
       "      <th>East Midlands</th>\n",
       "      <th>West Midlands</th>\n",
       "      <th>East of England</th>\n",
       "      <th>London</th>\n",
       "      <th>South East</th>\n",
       "      <th>South West</th>\n",
       "    </tr>\n",
       "    <tr>\n",
       "      <th>Individual ages</th>\n",
       "      <th></th>\n",
       "      <th></th>\n",
       "      <th></th>\n",
       "      <th></th>\n",
       "      <th></th>\n",
       "      <th></th>\n",
       "      <th></th>\n",
       "      <th></th>\n",
       "      <th></th>\n",
       "    </tr>\n",
       "  </thead>\n",
       "  <tbody>\n",
       "    <tr>\n",
       "      <th>386</th>\n",
       "      <td>19</td>\n",
       "      <td>26</td>\n",
       "      <td>27</td>\n",
       "      <td>38</td>\n",
       "      <td>68</td>\n",
       "      <td>21</td>\n",
       "      <td>52</td>\n",
       "      <td>11</td>\n",
       "      <td>15</td>\n",
       "    </tr>\n",
       "    <tr>\n",
       "      <th>988</th>\n",
       "      <td>24</td>\n",
       "      <td>11</td>\n",
       "      <td>59</td>\n",
       "      <td>15</td>\n",
       "      <td>2</td>\n",
       "      <td>33</td>\n",
       "      <td>81</td>\n",
       "      <td>89</td>\n",
       "      <td>13</td>\n",
       "    </tr>\n",
       "    <tr>\n",
       "      <th>605</th>\n",
       "      <td>26</td>\n",
       "      <td>0</td>\n",
       "      <td>47</td>\n",
       "      <td>66</td>\n",
       "      <td>10</td>\n",
       "      <td>29</td>\n",
       "      <td>63</td>\n",
       "      <td>6</td>\n",
       "      <td>6</td>\n",
       "    </tr>\n",
       "    <tr>\n",
       "      <th>928</th>\n",
       "      <td>60</td>\n",
       "      <td>32</td>\n",
       "      <td>42</td>\n",
       "      <td>52</td>\n",
       "      <td>77</td>\n",
       "      <td>9</td>\n",
       "      <td>57</td>\n",
       "      <td>0</td>\n",
       "      <td>5</td>\n",
       "    </tr>\n",
       "    <tr>\n",
       "      <th>26</th>\n",
       "      <td>60</td>\n",
       "      <td>44</td>\n",
       "      <td>42</td>\n",
       "      <td>75</td>\n",
       "      <td>29</td>\n",
       "      <td>48</td>\n",
       "      <td>34</td>\n",
       "      <td>14</td>\n",
       "      <td>58</td>\n",
       "    </tr>\n",
       "  </tbody>\n",
       "</table>\n",
       "</div>"
      ],
      "text/plain": [
       "                 North East  North West  Yorkshire and The Humber  \\\n",
       "Individual ages                                                     \n",
       "386                      19          26                        27   \n",
       "988                      24          11                        59   \n",
       "605                      26           0                        47   \n",
       "928                      60          32                        42   \n",
       "26                       60          44                        42   \n",
       "\n",
       "                 East Midlands  West Midlands  East of England  London  \\\n",
       "Individual ages                                                          \n",
       "386                         38             68               21      52   \n",
       "988                         15              2               33      81   \n",
       "605                         66             10               29      63   \n",
       "928                         52             77                9      57   \n",
       "26                          75             29               48      34   \n",
       "\n",
       "                 South East  South West  \n",
       "Individual ages                          \n",
       "386                      11          15  \n",
       "988                      89          13  \n",
       "605                       6           6  \n",
       "928                       0           5  \n",
       "26                       14          58  "
      ]
     },
     "execution_count": 424,
     "metadata": {},
     "output_type": "execute_result"
    }
   ],
   "source": [
    "sample_test.head()"
   ]
  },
  {
   "cell_type": "code",
   "execution_count": 425,
   "id": "2e596fdf-6bb4-4d6f-9f59-625d88ae123c",
   "metadata": {
    "tags": []
   },
   "outputs": [
    {
     "data": {
      "text/html": [
       "<div>\n",
       "<style scoped>\n",
       "    .dataframe tbody tr th:only-of-type {\n",
       "        vertical-align: middle;\n",
       "    }\n",
       "\n",
       "    .dataframe tbody tr th {\n",
       "        vertical-align: top;\n",
       "    }\n",
       "\n",
       "    .dataframe thead th {\n",
       "        text-align: right;\n",
       "    }\n",
       "</style>\n",
       "<table border=\"1\" class=\"dataframe\">\n",
       "  <thead>\n",
       "    <tr style=\"text-align: right;\">\n",
       "      <th></th>\n",
       "      <th>North East</th>\n",
       "      <th>North West</th>\n",
       "      <th>Yorkshire and The Humber</th>\n",
       "      <th>East Midlands</th>\n",
       "      <th>West Midlands</th>\n",
       "      <th>East of England</th>\n",
       "      <th>London</th>\n",
       "      <th>South East</th>\n",
       "      <th>South West</th>\n",
       "    </tr>\n",
       "  </thead>\n",
       "  <tbody>\n",
       "    <tr>\n",
       "      <th>count</th>\n",
       "      <td>300.000000</td>\n",
       "      <td>300.000000</td>\n",
       "      <td>300.00000</td>\n",
       "      <td>300.000000</td>\n",
       "      <td>300.000000</td>\n",
       "      <td>300.000000</td>\n",
       "      <td>300.000000</td>\n",
       "      <td>300.000000</td>\n",
       "      <td>300.000000</td>\n",
       "    </tr>\n",
       "    <tr>\n",
       "      <th>mean</th>\n",
       "      <td>40.483333</td>\n",
       "      <td>42.223333</td>\n",
       "      <td>41.96000</td>\n",
       "      <td>38.973333</td>\n",
       "      <td>40.970000</td>\n",
       "      <td>40.800000</td>\n",
       "      <td>36.033333</td>\n",
       "      <td>40.403333</td>\n",
       "      <td>44.173333</td>\n",
       "    </tr>\n",
       "    <tr>\n",
       "      <th>std</th>\n",
       "      <td>22.444947</td>\n",
       "      <td>22.653419</td>\n",
       "      <td>22.52843</td>\n",
       "      <td>22.820353</td>\n",
       "      <td>23.973141</td>\n",
       "      <td>22.401027</td>\n",
       "      <td>22.280491</td>\n",
       "      <td>24.554369</td>\n",
       "      <td>24.010239</td>\n",
       "    </tr>\n",
       "    <tr>\n",
       "      <th>min</th>\n",
       "      <td>0.000000</td>\n",
       "      <td>0.000000</td>\n",
       "      <td>0.00000</td>\n",
       "      <td>0.000000</td>\n",
       "      <td>0.000000</td>\n",
       "      <td>0.000000</td>\n",
       "      <td>0.000000</td>\n",
       "      <td>0.000000</td>\n",
       "      <td>0.000000</td>\n",
       "    </tr>\n",
       "    <tr>\n",
       "      <th>25%</th>\n",
       "      <td>22.000000</td>\n",
       "      <td>24.000000</td>\n",
       "      <td>23.75000</td>\n",
       "      <td>19.750000</td>\n",
       "      <td>20.000000</td>\n",
       "      <td>24.000000</td>\n",
       "      <td>19.750000</td>\n",
       "      <td>20.000000</td>\n",
       "      <td>24.750000</td>\n",
       "    </tr>\n",
       "    <tr>\n",
       "      <th>50%</th>\n",
       "      <td>39.000000</td>\n",
       "      <td>44.000000</td>\n",
       "      <td>42.00000</td>\n",
       "      <td>38.000000</td>\n",
       "      <td>43.000000</td>\n",
       "      <td>41.000000</td>\n",
       "      <td>35.000000</td>\n",
       "      <td>41.000000</td>\n",
       "      <td>43.000000</td>\n",
       "    </tr>\n",
       "    <tr>\n",
       "      <th>75%</th>\n",
       "      <td>58.000000</td>\n",
       "      <td>59.000000</td>\n",
       "      <td>60.00000</td>\n",
       "      <td>58.250000</td>\n",
       "      <td>60.000000</td>\n",
       "      <td>58.000000</td>\n",
       "      <td>52.000000</td>\n",
       "      <td>60.000000</td>\n",
       "      <td>62.000000</td>\n",
       "    </tr>\n",
       "    <tr>\n",
       "      <th>max</th>\n",
       "      <td>89.000000</td>\n",
       "      <td>94.000000</td>\n",
       "      <td>94.00000</td>\n",
       "      <td>87.000000</td>\n",
       "      <td>96.000000</td>\n",
       "      <td>94.000000</td>\n",
       "      <td>92.000000</td>\n",
       "      <td>92.000000</td>\n",
       "      <td>98.000000</td>\n",
       "    </tr>\n",
       "  </tbody>\n",
       "</table>\n",
       "</div>"
      ],
      "text/plain": [
       "       North East  North West  Yorkshire and The Humber  East Midlands  \\\n",
       "count  300.000000  300.000000                 300.00000     300.000000   \n",
       "mean    40.483333   42.223333                  41.96000      38.973333   \n",
       "std     22.444947   22.653419                  22.52843      22.820353   \n",
       "min      0.000000    0.000000                   0.00000       0.000000   \n",
       "25%     22.000000   24.000000                  23.75000      19.750000   \n",
       "50%     39.000000   44.000000                  42.00000      38.000000   \n",
       "75%     58.000000   59.000000                  60.00000      58.250000   \n",
       "max     89.000000   94.000000                  94.00000      87.000000   \n",
       "\n",
       "       West Midlands  East of England      London  South East  South West  \n",
       "count     300.000000       300.000000  300.000000  300.000000  300.000000  \n",
       "mean       40.970000        40.800000   36.033333   40.403333   44.173333  \n",
       "std        23.973141        22.401027   22.280491   24.554369   24.010239  \n",
       "min         0.000000         0.000000    0.000000    0.000000    0.000000  \n",
       "25%        20.000000        24.000000   19.750000   20.000000   24.750000  \n",
       "50%        43.000000        41.000000   35.000000   41.000000   43.000000  \n",
       "75%        60.000000        58.000000   52.000000   60.000000   62.000000  \n",
       "max        96.000000        94.000000   92.000000   92.000000   98.000000  "
      ]
     },
     "execution_count": 425,
     "metadata": {},
     "output_type": "execute_result"
    }
   ],
   "source": [
    "sample_test.describe()"
   ]
  },
  {
   "cell_type": "code",
   "execution_count": 426,
   "id": "949ae107-70fc-4c5f-abd0-b33f354b8511",
   "metadata": {
    "tags": []
   },
   "outputs": [
    {
     "name": "stdout",
     "output_type": "stream",
     "text": [
      "Given Values: \n",
      " μ(London): 40.97\n",
      " μ(North East): 40.483333333333334\n",
      " STD(London): 23.973140628042593\n",
      " STD(North East): 22.44494689291202\n",
      " n(London): 300\n",
      " n(North East): 300\n",
      "\n",
      "degree of freedom: 598\n",
      "alpha 0.05\n",
      "p-value: 1.2024825833817654\n",
      "t-test: 0.25667569610011326\n",
      "\n",
      "p-value > alpha\n",
      "1.2024825833817654 > 0.05\n",
      "Accept null hyphothesis, there is no significant difference\n"
     ]
    }
   ],
   "source": [
    "from scipy import stats\n",
    "\n",
    "# Given values\n",
    "x1 = sample_test['West Midlands'].mean()\n",
    "x2 = sample_test['North East'].mean()\n",
    "std1 = sample_test['West Midlands'].std()\n",
    "std2 = sample_test['North East'].std()\n",
    "n1 = sample_test['West Midlands'].count()\n",
    "n2 = sample_test['North East'].count()\n",
    "alpha = 0.05\n",
    "\n",
    "t = (x1 - x2) / (np.sqrt(((n1 - 1) * std1**2 + (n2 - 1) * std2**2) / (n1 + n2 - 2)) * np.sqrt(1/n1 + 1/n2))\n",
    "\n",
    "\n",
    "df = n1 + n2 - 2\n",
    "\n",
    "\n",
    "p = 2 * (1 - stats.t.sf(abs(t), df))\n",
    "\n",
    "print(\"Given Values: \")\n",
    "print(\" μ(London): \" + str(x1))\n",
    "print(\" μ(North East): \" + str(x2))\n",
    "print(\" STD(London): \" + str(std1))\n",
    "print(\" STD(North East): \" + str(std2))\n",
    "print(\" n(London): \" + str(n1))\n",
    "print(\" n(North East): \" + str(n2))\n",
    "print(\"\")\n",
    "print(\"degree of freedom: \" + str(df))\n",
    "print(\"alpha \" + str(alpha))\n",
    "print(\"p-value: \" + str(p))\n",
    "print(\"t-test: \" + str(t))\n",
    "\n",
    "print(\"\")\n",
    "if p < alpha:\n",
    "    print(str(p) + \" < \" + str(alpha))\n",
    "    print(\"Reject null hypothesis. There is significant difference.\")\n",
    "else:\n",
    "    print('p-value' + \" > \" + 'alpha')\n",
    "    print(str(p) + \" > \" + str(alpha))\n",
    "    print(\"Accept null hyphothesis, there is no significant difference\")\n",
    "\n",
    "    \n"
   ]
  },
  {
   "cell_type": "code",
   "execution_count": 429,
   "id": "855c7e12-17c0-4ee4-8a2d-2b32e342b7d7",
   "metadata": {
    "tags": []
   },
   "outputs": [
    {
     "name": "stdout",
     "output_type": "stream",
     "text": [
      "p-value: 1.2024825833817654\n",
      "degree of freedom: 598\n",
      "critical value: 1.9639388980554935\n",
      "t-test: 0.25667569610011326\n"
     ]
    },
    {
     "data": {
      "image/png": "[encoded data removed]",
      "text/plain": [
       "<Figure size 640x480 with 1 Axes>"
      ]
     },
     "metadata": {},
     "output_type": "display_data"
    }
   ],
   "source": [
    "from scipy import stats\n",
    "\n",
    "x1 = sample_test['West Midlands'].mean()\n",
    "x2 = sample_test['North East'].mean()\n",
    "std1 = sample_test['West Midlands'].std()\n",
    "std2 = sample_test['North East'].std()\n",
    "n1 = sample_test['West Midlands'].count()\n",
    "n2 = sample_test['North East'].count()\n",
    "alpha = 0.05\n",
    "\n",
    "t = (x1 - x2) / (np.sqrt(((n1 - 1) * std1**2 + (n2 - 1) * std2**2) / (n1 + n2 - 2)) * np.sqrt(1/n1 + 1/n2))\n",
    "\n",
    "\n",
    "df = n1 + n2 - 2\n",
    "\n",
    "\n",
    "p = 2 * (1 - stats.t.sf(abs(t), df))\n",
    "\n",
    "t_critical = stats.t.ppf(1-alpha/2, df)\n",
    "print(\"p-value: \" + str(p))\n",
    "print(\"degree of freedom: \" + str(df))\n",
    "print(\"critical value: \" + str(t_critical))\n",
    "\n",
    "\n",
    "\n",
    "\n",
    "\n",
    "x = np.linspace(-5,5,1000)\n",
    "y = stats.t.pdf(x, df)\n",
    "plt.plot(x, y, label='t-distribution')\n",
    "\n",
    "plt.fill_between(x[x <= t_critical], 0, stats.t.pdf(x[x <= t_critical], df), color='grey')\n",
    "plt.fill_between(x[(x > -t_critical) & (x < t_critical)], 0, stats.t.pdf(x[(x > -t_critical) & (x < t_critical)], df), color='#87CEEB')\n",
    "plt.fill_between(x[x >= t_critical], 0, stats.t.pdf(x[x >= t_critical], df), color='grey')\n",
    "plt.plot(t_critical, stats.t.pdf(t_critical, df), marker='|', markersize=100, color='black')\n",
    "plt.plot(-t_critical, stats.t.pdf(-t_critical, df), marker='|', markersize=100, color='black')\n",
    "\n",
    "\n",
    "\n",
    "plt.xlabel('t')\n",
    "plt.ylabel('pdf')\n",
    "plt.title('t-distribution')\n",
    "\n",
    "\n",
    "plt.plot(t, stats.t.pdf(t, df), marker='o', markersize=10, color='black')\n",
    "plt.axvline(t, color = 'black', linestyle = '--', label = 't-statistical-test')\n",
    "plt.legend()\n",
    "print( \"t-test: \" + str(t))\n",
    "plt.show() \n",
    "\n"
   ]
  },
  {
   "cell_type": "markdown",
   "id": "fe286c6b-3197-4bc9-9e09-729173abc670",
   "metadata": {},
   "source": [
    "## Conclusions. (2 Marks) "
   ]
  },
  {
   "cell_type": "markdown",
   "id": "a1f13356-1c96-4acd-9528-de3ef3cb668c",
   "metadata": {},
   "source": [
    "After performing the t-test, we obtained a p-value less than the alpha level of 0.05, which gives us a strong evidence of accepting the null hypothesis. In addition, after exploring the probability density function of the t-distribution. we found that the calculated t-statistical-test value is located in the accepting region. Therefore, with a 95% confidence level, we fail to reject the null hypothesis H0 in favour of the alternative hypothesis H1."
   ]
  }
 ],
 "metadata": {
  "kernelspec": {
   "display_name": "Python 3 (ipykernel)",
   "language": "python",
   "name": "python3"
  },
  "language_info": {
   "codemirror_mode": {
    "name": "ipython",
    "version": 3
   },
   "file_extension": ".py",
   "mimetype": "text/x-python",
   "name": "python",
   "nbconvert_exporter": "python",
   "pygments_lexer": "ipython3",
   "version": "3.8.3"
  }
 },
 "nbformat": 4,
 "nbformat_minor": 5
}
